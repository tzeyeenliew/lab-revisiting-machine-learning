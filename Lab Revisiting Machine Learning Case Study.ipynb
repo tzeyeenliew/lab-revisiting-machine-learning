{
 "cells": [
  {
   "cell_type": "markdown",
   "id": "b96ccb58",
   "metadata": {},
   "source": [
    "### Instructions"
   ]
  },
  {
   "cell_type": "markdown",
   "id": "af9a4a5b",
   "metadata": {},
   "source": [
    "#### Complete the following steps on the categorical columns in the dataset:"
   ]
  },
  {
   "cell_type": "markdown",
   "id": "ed822deb",
   "metadata": {},
   "source": [
    "#### 1. Check for null values in all the columns"
   ]
  },
  {
   "cell_type": "code",
   "execution_count": 1,
   "id": "1d635a14",
   "metadata": {},
   "outputs": [],
   "source": [
    "import pandas as pd\n",
    "import numpy as py"
   ]
  },
  {
   "cell_type": "code",
   "execution_count": 2,
   "id": "0fbffa8a",
   "metadata": {},
   "outputs": [
    {
     "name": "stderr",
     "output_type": "stream",
     "text": [
      "C:\\Users\\HP\\AppData\\Local\\Temp\\ipykernel_9228\\3673836359.py:1: DtypeWarning: Columns (8) have mixed types. Specify dtype option on import or set low_memory=False.\n",
      "  data = pd.read_csv('learningSet.csv')\n"
     ]
    }
   ],
   "source": [
    "data = pd.read_csv('learningSet.csv')"
   ]
  },
  {
   "cell_type": "code",
   "execution_count": 3,
   "id": "b074eff1",
   "metadata": {},
   "outputs": [
    {
     "name": "stdout",
     "output_type": "stream",
     "text": [
      "ODATEDW       0\n",
      "OSOURCE       0\n",
      "TCODE         0\n",
      "STATE         0\n",
      "ZIP           0\n",
      "           ... \n",
      "MDMAUD_R      0\n",
      "MDMAUD_F      0\n",
      "MDMAUD_A      0\n",
      "CLUSTER2    132\n",
      "GEOCODE2    132\n",
      "Length: 481, dtype: int64\n"
     ]
    }
   ],
   "source": [
    "null_values = data.isnull().sum()\n",
    "print(null_values)"
   ]
  },
  {
   "cell_type": "markdown",
   "id": "65f7ef67",
   "metadata": {},
   "source": [
    "#### 2. Exclude the following variables by looking at the definitions. Create a new empty list called drop_list. We will append this list and then drop all the columns in this list later:"
   ]
  },
  {
   "cell_type": "code",
   "execution_count": 4,
   "id": "f30d7b69",
   "metadata": {},
   "outputs": [],
   "source": [
    "drop_list =[] #creating a new list!"
   ]
  },
  {
   "cell_type": "code",
   "execution_count": 5,
   "id": "c4b21b69",
   "metadata": {},
   "outputs": [],
   "source": [
    "drop_list.append('OSOURCE')\n",
    "drop_list.append('ZIP') #ZIP CODE as a variable name doesn't exist in the dataframe"
   ]
  },
  {
   "cell_type": "code",
   "execution_count": 6,
   "id": "b349396e",
   "metadata": {},
   "outputs": [],
   "source": [
    "data.drop(columns=drop_list, inplace=True)"
   ]
  },
  {
   "cell_type": "markdown",
   "id": "dd5b546a",
   "metadata": {},
   "source": [
    "#### 3. Identify columns that over 85% missing values"
   ]
  },
  {
   "cell_type": "code",
   "execution_count": 9,
   "id": "f1e59447",
   "metadata": {},
   "outputs": [],
   "source": [
    "missing_alot = (data.isnull().sum() / data.shape[0]) * 100 #calculates the proportion of nulls over the number of rows in every column. the *100 returns a percentage and stores it in the missing_alot variable"
   ]
  },
  {
   "cell_type": "markdown",
   "id": "35c9ac2b",
   "metadata": {},
   "source": [
    "#### 4. Remove those columns from the dataframe"
   ]
  },
  {
   "cell_type": "code",
   "execution_count": 10,
   "id": "380f4e9a",
   "metadata": {},
   "outputs": [],
   "source": [
    "drop_them = missing_alot[missing_alot > 85].index.tolist() #stores the names of columns which have null values exceeding 85% of the column's row count"
   ]
  },
  {
   "cell_type": "code",
   "execution_count": 11,
   "id": "a1591ca1",
   "metadata": {},
   "outputs": [],
   "source": [
    "data.drop(columns=drop_them, inplace=True)"
   ]
  },
  {
   "cell_type": "markdown",
   "id": "638a61e3",
   "metadata": {},
   "source": [
    "#### 5. Reduce the number of categories in the column GENDER. The column should only have either \"M\" for males, \"F\" for females, and \"other\" for all the rest"
   ]
  },
  {
   "cell_type": "markdown",
   "id": "a48585e9",
   "metadata": {},
   "source": [
    "#### Note that there are a few null values in the column. We will first replace those null values using the code below:\n",
    "#### print(categorical['GENDER'].value_counts())\n",
    "#### categorical['GENDER'] = categorical['GENDER'].fillna('F')"
   ]
  },
  {
   "cell_type": "code",
   "execution_count": 14,
   "id": "d0f9f3bb",
   "metadata": {},
   "outputs": [
    {
     "data": {
      "text/plain": [
       "F    51277\n",
       "M    39094\n",
       "      2957\n",
       "U     1715\n",
       "J      365\n",
       "C        2\n",
       "A        2\n",
       "Name: GENDER, dtype: int64"
      ]
     },
     "execution_count": 14,
     "metadata": {},
     "output_type": "execute_result"
    }
   ],
   "source": [
    "data['GENDER'].value_counts() # to see what categories are present within the column and their respective counts"
   ]
  },
  {
   "cell_type": "code",
   "execution_count": 18,
   "id": "4b0299fc",
   "metadata": {},
   "outputs": [],
   "source": [
    "data['GENDER']= data['GENDER'].fillna('F')"
   ]
  },
  {
   "cell_type": "code",
   "execution_count": 19,
   "id": "bc4420b8",
   "metadata": {},
   "outputs": [
    {
     "data": {
      "text/plain": [
       "F    51277\n",
       "M    39094\n",
       "      2957\n",
       "U     1715\n",
       "J      365\n",
       "C        2\n",
       "A        2\n",
       "Name: GENDER, dtype: int64"
      ]
     },
     "execution_count": 19,
     "metadata": {},
     "output_type": "execute_result"
    }
   ],
   "source": [
    "data['GENDER'].value_counts() #this indicates that the empty values are not represented by NAN> We'll need to usse data.loc instead"
   ]
  },
  {
   "cell_type": "code",
   "execution_count": 24,
   "id": "068cee20",
   "metadata": {},
   "outputs": [],
   "source": [
    "data.loc[data['GENDER'] == ' ', 'GENDER'] = 'F' #replaces ' ' rows in 'GENDER' with 'F' , and ' ' actually consists of two spaces"
   ]
  },
  {
   "cell_type": "code",
   "execution_count": 25,
   "id": "5c814123",
   "metadata": {
    "scrolled": true
   },
   "outputs": [
    {
     "data": {
      "text/plain": [
       "F    54234\n",
       "M    39094\n",
       "U     1715\n",
       "J      365\n",
       "C        2\n",
       "A        2\n",
       "Name: GENDER, dtype: int64"
      ]
     },
     "execution_count": 25,
     "metadata": {},
     "output_type": "execute_result"
    }
   ],
   "source": [
    "data['GENDER'].value_counts() # to check if the '  ' rows have been reassigned as 'F'"
   ]
  },
  {
   "cell_type": "code",
   "execution_count": 27,
   "id": "c0dd77a3",
   "metadata": {},
   "outputs": [],
   "source": [
    "data.loc[~data['GENDER'].isin(['M', 'F']), 'GENDER']= 'Other'  # if a row is neither M or F (~ being a negation symbol), replace that value with 'Other'"
   ]
  },
  {
   "cell_type": "code",
   "execution_count": 28,
   "id": "9dbdb993",
   "metadata": {},
   "outputs": [
    {
     "data": {
      "text/plain": [
       "F        54234\n",
       "M        39094\n",
       "Other     2084\n",
       "Name: GENDER, dtype: int64"
      ]
     },
     "execution_count": 28,
     "metadata": {},
     "output_type": "execute_result"
    }
   ],
   "source": [
    "data['GENDER'].value_counts() #to check if the rows were sucessfully relabelled"
   ]
  }
 ],
 "metadata": {
  "kernelspec": {
   "display_name": "Python 3 (ipykernel)",
   "language": "python",
   "name": "python3"
  },
  "language_info": {
   "codemirror_mode": {
    "name": "ipython",
    "version": 3
   },
   "file_extension": ".py",
   "mimetype": "text/x-python",
   "name": "python",
   "nbconvert_exporter": "python",
   "pygments_lexer": "ipython3",
   "version": "3.9.13"
  }
 },
 "nbformat": 4,
 "nbformat_minor": 5
}
